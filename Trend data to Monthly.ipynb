{
 "cells": [
  {
   "cell_type": "code",
   "execution_count": 135,
   "metadata": {
    "scrolled": true
   },
   "outputs": [],
   "source": [
    "import pandas as pd\n",
    "path = 'steamData.csv'\n",
    "data = pd.read_csv(path, parse_dates=['Week'])\n",
    "monthlyData = data.groupby(pd.PeriodIndex(data['Week'], freq=\"M\"))['Popularity'].mean()\n"
   ]
  },
  {
   "cell_type": "code",
   "execution_count": 136,
   "metadata": {},
   "outputs": [],
   "source": [
    "monthlyData.to_csv('monthlySteamData.csv', encoding='utf-8', index=True, header=True)"
   ]
  },
  {
   "cell_type": "code",
   "execution_count": 134,
   "metadata": {},
   "outputs": [],
   "source": [
    "import pandas as pd\n",
    "path = 'covidData.csv'\n",
    "data = pd.read_csv(path, parse_dates=['Week'])\n",
    "monthlyData = data.groupby(pd.PeriodIndex(data['Week'], freq=\"M\"))['Popularity'].mean()\n",
    "monthlyData.to_csv('monthlyCovidData.csv', index=True, header=True)"
   ]
  },
  {
   "cell_type": "code",
   "execution_count": null,
   "metadata": {},
   "outputs": [],
   "source": []
  }
 ],
 "metadata": {
  "kernelspec": {
   "display_name": "Python 3",
   "language": "python",
   "name": "python3"
  },
  "language_info": {
   "codemirror_mode": {
    "name": "ipython",
    "version": 3
   },
   "file_extension": ".py",
   "mimetype": "text/x-python",
   "name": "python",
   "nbconvert_exporter": "python",
   "pygments_lexer": "ipython3",
   "version": "3.7.3"
  }
 },
 "nbformat": 4,
 "nbformat_minor": 2
}
